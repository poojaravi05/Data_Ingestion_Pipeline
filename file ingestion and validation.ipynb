{
 "cells": [
  {
   "cell_type": "markdown",
   "id": "03e364d1",
   "metadata": {},
   "source": [
    "# File ingestion and Validation"
   ]
  },
  {
   "cell_type": "code",
   "execution_count": 13,
   "id": "afef6ac5",
   "metadata": {},
   "outputs": [
    {
     "name": "stdout",
     "output_type": "stream",
     "text": [
      "Pandas took 5.493535 seconds to read the file.\n",
      "Dask took 6.284257 seconds to read the file.\n",
      "Modin took 4.981606 seconds to read the file.\n"
     ]
    }
   ],
   "source": [
    "import pandas as pd\n",
    "import dask.dataframe as dd\n",
    "import modin.pandas as mpd\n",
    "import ray\n",
    "import yaml\n",
    "import re\n",
    "import gzip\n",
    "import logging\n",
    "\n",
    "def read_config_file(filepath):\n",
    "    with open(filepath, 'r') as stream:\n",
    "        try:\n",
    "            return yaml.safe_load(stream)\n",
    "        except yaml.YAMLError as exc:\n",
    "            logging.error(exc)\n",
    "\n",
    "# Choose a file to read\n",
    "input_file = \"train.csv\"\n",
    "\n",
    "# Read using pandas and measure the time taken\n",
    "start_time = pd.Timestamp.now()\n",
    "df = pd.read_csv(input_file)\n",
    "end_time = pd.Timestamp.now()\n",
    "print(f\"Pandas took {(end_time-start_time).total_seconds()} seconds to read the file.\")\n",
    "\n",
    "# Read using Dask and measure the time taken\n",
    "start_time = pd.Timestamp.now()\n",
    "ddf = dd.read_csv(input_file)\n",
    "df = ddf.compute()\n",
    "end_time = pd.Timestamp.now()\n",
    "print(f\"Dask took {(end_time-start_time).total_seconds()} seconds to read the file.\")\n",
    "\n",
    "# Read using Modin and measure the time taken\n",
    "start_time = pd.Timestamp.now()\n",
    "df = mpd.read_csv(input_file)\n",
    "end_time = pd.Timestamp.now()\n",
    "print(f\"Modin took {(end_time-start_time).total_seconds()} seconds to read the file.\")\n",
    "\n",
    "# Read using Ray and measure the time taken\n",
    "#ray.init()\n",
    "#@ray.remote\n",
    "#def read_csv_ray(input_file):\n",
    "#    return pd.read_csv(input_file)\n",
    "#start_time = pd.Timestamp.now()\n",
    "#df_id = read_csv_ray.remote(input_file)\n",
    "#df = ray.get(df_id)\n",
    "#end_time = pd.Timestamp.now()\n",
    "#ray.shutdown()\n",
    "#print(f\"Ray took {(end_time-start_time).total_seconds()} seconds to read the file.\")\n",
    "\n",
    "#Data Validation functions\n",
    "def validate_columns(df, expected_cols):\n",
    "    df.columns = df.columns.str.strip().str.lower().str.replace('[^a-zA-Z0-9]', '', regex=True)\n",
    "    expected_cols = [col.strip().lower().replace('[^a-zA-Z0-9]', '', regex=True) for col in expected_cols]\n",
    "    if set(df.columns) == set(expected_cols):\n",
    "        return True\n",
    "    else:\n",
    "        missing_cols = set(expected_cols) - set(df.columns)\n",
    "        extra_cols = set(df.columns) - set(expected_cols)\n",
    "    if missing_cols:\n",
    "        logging.error(f\"The following expected columns are missing: {missing_cols}\")\n",
    "    if extra_cols:\n",
    "        logging.warning(f\"The following extra columns are present: {extra_cols}\")\n",
    "    return False"
   ]
  },
  {
   "cell_type": "markdown",
   "id": "62eb324f",
   "metadata": {},
   "source": [
    "### Analysying the efficiency of file reading\n",
    "\n",
    "Tried reading the files using different methods(pandas, dask, modin) according to industry standards by configuring files to read. Among these I found out Modin takes lesser time to read the file than Dask and Pandas. Dask takes longer time to read. Therefore, Modin has better computational efficiency."
   ]
  },
  {
   "cell_type": "code",
   "execution_count": 27,
   "id": "655cca9b",
   "metadata": {},
   "outputs": [
    {
     "name": "stdout",
     "output_type": "stream",
     "text": [
      "Overwriting train.yaml\n"
     ]
    }
   ],
   "source": [
    "%%writefile train.yaml\n",
    "file_type: csv\n",
    "file_name: train\n",
    "inbound_delimiter: ','\n",
    "outbound_delimiter: '|'\n",
    "skip_leading_rows: 1\n",
    "columns:\n",
    "  - book\n",
    "  - laptop\n",
    "  - bag"
   ]
  },
  {
   "cell_type": "code",
   "execution_count": 28,
   "id": "769147db",
   "metadata": {},
   "outputs": [],
   "source": [
    "# Read the YAML configuration file\n",
    "with open('train.yaml', 'r') as stream:\n",
    "    config_data = yaml.safe_load(stream)"
   ]
  },
  {
   "cell_type": "code",
   "execution_count": 29,
   "id": "667d4e82",
   "metadata": {},
   "outputs": [
    {
     "data": {
      "text/plain": [
       "{'file_type': 'csv',\n",
       " 'file_name': 'train',\n",
       " 'inbound_delimiter': ',',\n",
       " 'outbound_delimiter': '|',\n",
       " 'skip_leading_rows': 1,\n",
       " 'columns': ['book', 'laptop', 'bag']}"
      ]
     },
     "execution_count": 29,
     "metadata": {},
     "output_type": "execute_result"
    }
   ],
   "source": [
    "#inspecting data of config file\n",
    "config_data"
   ]
  },
  {
   "cell_type": "code",
   "execution_count": 24,
   "id": "ebc1a00b",
   "metadata": {},
   "outputs": [
    {
     "data": {
      "text/html": [
       "<div>\n",
       "<style scoped>\n",
       "    .dataframe tbody tr th:only-of-type {\n",
       "        vertical-align: middle;\n",
       "    }\n",
       "\n",
       "    .dataframe tbody tr th {\n",
       "        vertical-align: top;\n",
       "    }\n",
       "\n",
       "    .dataframe thead th {\n",
       "        text-align: right;\n",
       "    }\n",
       "</style>\n",
       "<table border=\"1\" class=\"dataframe\">\n",
       "  <thead>\n",
       "    <tr style=\"text-align: right;\">\n",
       "      <th></th>\n",
       "      <th>Star</th>\n",
       "      <th>Review</th>\n",
       "      <th>Description</th>\n",
       "    </tr>\n",
       "  </thead>\n",
       "  <tbody>\n",
       "    <tr>\n",
       "      <th>0</th>\n",
       "      <td>2</td>\n",
       "      <td>The best soundtrack ever to anything.</td>\n",
       "      <td>I'm reading a lot of reviews saying that this ...</td>\n",
       "    </tr>\n",
       "    <tr>\n",
       "      <th>1</th>\n",
       "      <td>2</td>\n",
       "      <td>Amazing!</td>\n",
       "      <td>This soundtrack is my favorite music of all ti...</td>\n",
       "    </tr>\n",
       "    <tr>\n",
       "      <th>2</th>\n",
       "      <td>2</td>\n",
       "      <td>Excellent Soundtrack</td>\n",
       "      <td>I truly like this soundtrack and I enjoy video...</td>\n",
       "    </tr>\n",
       "    <tr>\n",
       "      <th>3</th>\n",
       "      <td>2</td>\n",
       "      <td>Remember, Pull Your Jaw Off The Floor After He...</td>\n",
       "      <td>If you've played the game, you know how divine...</td>\n",
       "    </tr>\n",
       "    <tr>\n",
       "      <th>4</th>\n",
       "      <td>2</td>\n",
       "      <td>an absolute masterpiece</td>\n",
       "      <td>I am quite sure any of you actually taking the...</td>\n",
       "    </tr>\n",
       "  </tbody>\n",
       "</table>\n",
       "</div>"
      ],
      "text/plain": [
       "   Star                                             Review  \\\n",
       "0     2              The best soundtrack ever to anything.   \n",
       "1     2                                           Amazing!   \n",
       "2     2                               Excellent Soundtrack   \n",
       "3     2  Remember, Pull Your Jaw Off The Floor After He...   \n",
       "4     2                            an absolute masterpiece   \n",
       "\n",
       "                                         Description  \n",
       "0  I'm reading a lot of reviews saying that this ...  \n",
       "1  This soundtrack is my favorite music of all ti...  \n",
       "2  I truly like this soundtrack and I enjoy video...  \n",
       "3  If you've played the game, you know how divine...  \n",
       "4  I am quite sure any of you actually taking the...  "
      ]
     },
     "execution_count": 24,
     "metadata": {},
     "output_type": "execute_result"
    }
   ],
   "source": [
    "# Normal reading process of the file\n",
    "import pandas as pd\n",
    "df_sample = pd.read_csv('train.csv', delimiter=',')\n",
    "df_sample.head()"
   ]
  },
  {
   "cell_type": "code",
   "execution_count": 25,
   "id": "0e28dd08",
   "metadata": {},
   "outputs": [
    {
     "name": "stdout",
     "output_type": "stream",
     "text": [
      "Error: Column \"Star\" is not present in the YAML configuration\n",
      "Error: Column \"Review\" is not present in the YAML configuration\n",
      "Error: Column \"Description\" is not present in the YAML configuration\n",
      "Validation failed\n"
     ]
    }
   ],
   "source": [
    "# Validate number of columns\n",
    "if len(df.columns) != len(config_data['columns']):\n",
    "    print('Error: Number of columns in the file does not match with the YAML configuration')\n",
    "    print('Validation failed')\n",
    "else:\n",
    "    # Validate column names\n",
    "    for col in df.columns:\n",
    "        if col not in config_data['columns']:\n",
    "            print(f'Error: Column \"{col}\" is not present in the YAML configuration')\n",
    "    print('Validation failed')"
   ]
  },
  {
   "cell_type": "code",
   "execution_count": 26,
   "id": "121f04de",
   "metadata": {},
   "outputs": [
    {
     "name": "stdout",
     "output_type": "stream",
     "text": [
      "train.txt.gz file has been generated successfully\n"
     ]
    }
   ],
   "source": [
    "import csv\n",
    "\n",
    "# Write the file in pipe-separated text file in gz format\n",
    "output_file = config_data['file_name'] + '.txt.gz'\n",
    "temp_file = 'temp.txt'\n",
    "\n",
    "with open(temp_file, 'w', newline='', encoding='utf-8-sig') as file:\n",
    "    writer = csv.writer(file, delimiter='|')\n",
    "    writer.writerows(df.values)\n",
    "\n",
    "with open(temp_file, 'rb') as file_in:\n",
    "    with gzip.open(output_file, 'wb') as file_out:\n",
    "        file_out.writelines(file_in)\n",
    "\n",
    "os.remove(temp_file)\n",
    "\n",
    "print(f'{output_file} file has been generated successfully')"
   ]
  },
  {
   "cell_type": "markdown",
   "id": "95e6e1e0",
   "metadata": {},
   "source": [
    "### Summary of the file:\n",
    "\n",
    "Dataset: train.csv\n",
    "\n",
    "Total number of rows: 1048576\n",
    "\n",
    "total number of columns: 3\n",
    "\n",
    "file size: 2.3GB"
   ]
  },
  {
   "cell_type": "code",
   "execution_count": null,
   "id": "4ab9696d",
   "metadata": {},
   "outputs": [],
   "source": []
  }
 ],
 "metadata": {
  "kernelspec": {
   "display_name": "Python 3 (ipykernel)",
   "language": "python",
   "name": "python3"
  },
  "language_info": {
   "codemirror_mode": {
    "name": "ipython",
    "version": 3
   },
   "file_extension": ".py",
   "mimetype": "text/x-python",
   "name": "python",
   "nbconvert_exporter": "python",
   "pygments_lexer": "ipython3",
   "version": "3.10.9"
  }
 },
 "nbformat": 4,
 "nbformat_minor": 5
}
